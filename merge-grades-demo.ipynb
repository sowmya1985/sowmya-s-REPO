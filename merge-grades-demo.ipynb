{
 "cells": [
  {
   "cell_type": "code",
   "execution_count": null,
   "metadata": {},
   "outputs": [],
   "source": [
    "import pandas as pd\n",
    "import numpy as np\n",
    "\n",
    "import warnings\n",
    "\n",
    "warnings.filterwarnings(\"ignore\")\n",
    "warnings.warn(\"DelftStack\")\n",
    "warnings.warn(\"Do not show this message\")\n",
    "\n",
    "all_sheets = pd.read_excel('C:/Users/sowmy/Downloads/Exams.xlsx', sheet_name = None)\n",
    "\n",
    "df_grades = pd.read_excel('C:/Users/sowmy/Downloads/Exams.xlsx', sheet_name = \"Grades\")\n",
    "df_demography = pd.read_excel('C:/Users/sowmy/Downloads/Exams.xlsx', sheet_name = \"Demography\")\n",
    "df_EDA = pd.read_excel('C:/Users/sowmy/Downloads/Exams.xlsx', sheet_name = \"EDA\")\n",
    "df_HR = pd.read_excel('C:/Users/sowmy/Downloads/Exams.xlsx', sheet_name = \"HR\")\n",
    "df_Temp = pd.read_excel('C:/Users/sowmy/Downloads/Exams.xlsx', sheet_name = \"Temp\")\n",
    "df_IBI = pd.read_excel('C:/Users/sowmy/Downloads/Exams.xlsx', sheet_name = \"IBI\")\n",
    "\n",
    "merged_grades_demography = pd.merge(df_grades, df_demography, on='Student_id', how='inner')\n",
    "\n",
    "print(merged_grades_demography)\n"
   ]
  }
 ],
 "metadata": {
  "language_info": {
   "name": "python"
  },
  "orig_nbformat": 4
 },
 "nbformat": 4,
 "nbformat_minor": 2
}
